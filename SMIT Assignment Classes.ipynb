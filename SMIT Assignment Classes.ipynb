{
 "cells": [
  {
   "cell_type": "markdown",
   "id": "3afcfb73-9b1d-45dc-bb57-5b589fba9a18",
   "metadata": {},
   "source": [
    "### Write a Python program to create a class representing a Circle. Include methods to calculate its area and perimeter."
   ]
  },
  {
   "cell_type": "code",
   "execution_count": 24,
   "id": "70bf2275-ff4b-46f2-bd88-1d0943cac3b4",
   "metadata": {},
   "outputs": [],
   "source": [
    "class Circle():\n",
    "    def __init__(self, radius, pie= 22/7):\n",
    "        self.radius = radius\n",
    "        self.pie = pie\n",
    "        \n",
    "    def find_area(self):\n",
    "        area = self.pie * self.radius**2\n",
    "        return area\n",
    "\n",
    "    def find_perimeter(self):\n",
    "        perimeter = 2 * self.pie * self.radius\n",
    "        return perimeter"
   ]
  },
  {
   "cell_type": "code",
   "execution_count": 25,
   "id": "aca0e983-8727-4d4c-913e-d53a040ee126",
   "metadata": {},
   "outputs": [],
   "source": [
    "a = Circle(50)"
   ]
  },
  {
   "cell_type": "code",
   "execution_count": 26,
   "id": "8318124c-76a1-4e37-af8e-15d8bd4f564b",
   "metadata": {},
   "outputs": [
    {
     "data": {
      "text/plain": [
       "7857.142857142857"
      ]
     },
     "execution_count": 26,
     "metadata": {},
     "output_type": "execute_result"
    }
   ],
   "source": [
    "a.find_area()"
   ]
  },
  {
   "cell_type": "code",
   "execution_count": 27,
   "id": "216bb2e2-e02f-4be8-8316-94520b5319f7",
   "metadata": {},
   "outputs": [
    {
     "data": {
      "text/plain": [
       "314.2857142857143"
      ]
     },
     "execution_count": 27,
     "metadata": {},
     "output_type": "execute_result"
    }
   ],
   "source": [
    "a.find_perimeter()"
   ]
  },
  {
   "cell_type": "markdown",
   "id": "30906d0a-aac0-4ff3-a845-38f10b58eb8d",
   "metadata": {},
   "source": [
    "### Write a Python program to create a person class. Include attributes like name, country and date of birth. Implement a method to determine the person's age."
   ]
  },
  {
   "cell_type": "code",
   "execution_count": 34,
   "id": "c0ae6f2f-acd9-45ad-a58d-4c7e9796fb5f",
   "metadata": {},
   "outputs": [],
   "source": [
    "from datetime import date\n",
    "\n",
    "class Person():\n",
    "    def __init__(self, name, country, birth_year):\n",
    "        self.name = name\n",
    "        self.country = country\n",
    "        self.birth_year = birth_year\n",
    "\n",
    "    def find_age(self):\n",
    "        current_date = date.today()\n",
    "        current_year= current_date.year\n",
    "        age = current_year - self.birth_year\n",
    "        return age"
   ]
  },
  {
   "cell_type": "markdown",
   "id": "8d7af304-50d1-4c0e-b658-efa0a1049c78",
   "metadata": {},
   "source": []
  },
  {
   "cell_type": "code",
   "execution_count": 35,
   "id": "581af4ee-5140-4678-8e14-08b9da7674d5",
   "metadata": {},
   "outputs": [],
   "source": [
    "b = Person(\"Kabir\", \"Pakistan\", 1995)"
   ]
  },
  {
   "cell_type": "code",
   "execution_count": 37,
   "id": "57551aec-3181-4c3f-8e21-3d2a4471b5ae",
   "metadata": {},
   "outputs": [
    {
     "data": {
      "text/plain": [
       "29"
      ]
     },
     "execution_count": 37,
     "metadata": {},
     "output_type": "execute_result"
    }
   ],
   "source": [
    "b.find_age()"
   ]
  },
  {
   "cell_type": "markdown",
   "id": "b50bfaf9-5e73-4d17-bb89-b2e0f7d834d6",
   "metadata": {},
   "source": [
    "### Write a Python program to create a calculator class. Include methods for basic arithmetic operations."
   ]
  },
  {
   "cell_type": "code",
   "execution_count": 42,
   "id": "166ab6ef-aa1f-4ba4-b94f-46baee5855cb",
   "metadata": {},
   "outputs": [],
   "source": [
    "class Calculator:\n",
    "    def add(self, num1, num2):\n",
    "        return num1 + num2\n",
    "\n",
    "    def subtract(self, num1, num2):\n",
    "        return num1 - num2\n",
    "\n",
    "    def multiply(self, num1, num2):\n",
    "        return num1 * num2\n",
    "\n",
    "    def divide(self, num1, num2):\n",
    "        if num2 == 0:\n",
    "            return \"Error: Division by zero\"\n",
    "        return num1 / num2"
   ]
  },
  {
   "cell_type": "code",
   "execution_count": 43,
   "id": "73a51762-ebcf-42e1-be15-5980c1b5aff2",
   "metadata": {},
   "outputs": [],
   "source": [
    "c = Calculator()"
   ]
  },
  {
   "cell_type": "code",
   "execution_count": 44,
   "id": "fa89976a-527a-4865-bddc-7056dc162747",
   "metadata": {},
   "outputs": [
    {
     "data": {
      "text/plain": [
       "4"
      ]
     },
     "execution_count": 44,
     "metadata": {},
     "output_type": "execute_result"
    }
   ],
   "source": [
    "c.add(1,3)"
   ]
  },
  {
   "cell_type": "code",
   "execution_count": 45,
   "id": "d9bf3e6e-4b67-41e9-8c3b-95568d448f29",
   "metadata": {},
   "outputs": [
    {
     "data": {
      "text/plain": [
       "1"
      ]
     },
     "execution_count": 45,
     "metadata": {},
     "output_type": "execute_result"
    }
   ],
   "source": [
    "c.subtract(4,3)"
   ]
  },
  {
   "cell_type": "code",
   "execution_count": 46,
   "id": "b053621e-3309-4c2a-8de6-ce9cf092d2f2",
   "metadata": {},
   "outputs": [
    {
     "data": {
      "text/plain": [
       "4"
      ]
     },
     "execution_count": 46,
     "metadata": {},
     "output_type": "execute_result"
    }
   ],
   "source": [
    "c.multiply(2,2)"
   ]
  },
  {
   "cell_type": "code",
   "execution_count": 47,
   "id": "60d05743-fd39-4d7b-a11b-8a4da6bec3f1",
   "metadata": {},
   "outputs": [
    {
     "data": {
      "text/plain": [
       "2.0"
      ]
     },
     "execution_count": 47,
     "metadata": {},
     "output_type": "execute_result"
    }
   ],
   "source": [
    "c.divide(4,2)"
   ]
  },
  {
   "cell_type": "code",
   "execution_count": null,
   "id": "03fed6ef-2645-4710-87b6-a6865d950c38",
   "metadata": {},
   "outputs": [],
   "source": []
  }
 ],
 "metadata": {
  "kernelspec": {
   "display_name": "Python 3 (ipykernel)",
   "language": "python",
   "name": "python3"
  },
  "language_info": {
   "codemirror_mode": {
    "name": "ipython",
    "version": 3
   },
   "file_extension": ".py",
   "mimetype": "text/x-python",
   "name": "python",
   "nbconvert_exporter": "python",
   "pygments_lexer": "ipython3",
   "version": "3.12.4"
  }
 },
 "nbformat": 4,
 "nbformat_minor": 5
}
